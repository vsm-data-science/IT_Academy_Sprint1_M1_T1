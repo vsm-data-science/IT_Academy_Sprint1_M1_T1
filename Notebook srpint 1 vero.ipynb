{
 "cells": [
  {
   "cell_type": "code",
   "execution_count": 7,
   "metadata": {},
   "outputs": [],
   "source": [
    "import mysql.connector\n",
    "\n",
    "\n",
    "mydb = mysql.connector.connect(\n",
    "  host=\"localhost\",\n",
    "  user=\"root\",\n",
    "  password=\"root\",\n",
    "    database = \"movies\"\n",
    ")\n",
    "cur = mydb.cursor()"
   ]
  },
  {
   "cell_type": "markdown",
   "metadata": {},
   "source": [
    "#### Ejercicio 2\n",
    "Realiza la siguiente consulta sobre la base de datos acabada de crear: Debes obtener el nombre, el país y la fecha de nacimiento de aquellas personas por las que no conste una fecha de muerte y ordenar los datos de la persona más vieja a la persona más joven."
   ]
  },
  {
   "cell_type": "code",
   "execution_count": 3,
   "metadata": {},
   "outputs": [
    {
     "name": "stdout",
     "output_type": "stream",
     "text": [
      "(1, 'Francis Ford Coppola', 'United States', datetime.date(1939, 4, 7), None, None, 'OS_SGAD', None, None)\n",
      "(2, 'Carmine Coppola', 'United States', datetime.date(1945, 7, 8), None, None, 'OS_SGAD', None, None)\n",
      "(3, 'Marlon Brando', 'United States', datetime.date(1924, 4, 3), datetime.date(2004, 7, 1), None, 'OS_SGAD', None, None)\n",
      "(4, 'Robert Duvall', 'United States', datetime.date(1931, 1, 5), None, None, 'OS_SGAD', None, None)\n",
      "(5, 'Martin Sheen', 'United States', datetime.date(1940, 8, 3), None, None, 'OS_SGAD', None, None)\n",
      "(6, 'Harrison Ford', 'United States', datetime.date(1942, 7, 13), None, None, 'OS_SGAD', None, None)\n",
      "(7, 'George Lucas', 'United States', datetime.date(1944, 5, 14), None, None, 'OS_SGAD', None, None)\n",
      "(8, 'Gary Kurtz', 'United States', datetime.date(1940, 7, 27), None, None, 'OS_SGAD', None, None)\n",
      "(9, 'Steven Spielberg', 'United States', datetime.date(1946, 12, 18), None, None, 'OS_SGAD', None, None)\n",
      "(10, 'John Williams', 'United States', datetime.date(1928, 8, 8), None, None, 'OS_SGAD', None, None)\n",
      "(11, 'Tom Hanks', 'United States', datetime.date(1956, 7, 9), None, None, 'OS_SGAD', None, None)\n",
      "(12, 'Catherine Zeta-Jones', 'Wales', datetime.date(1969, 9, 25), None, None, 'OS_SGAD', None, None)\n",
      "(13, 'Alfred Joseph Hitchcock', 'United Kingdom', datetime.date(1899, 8, 13), datetime.date(1980, 4, 29), None, 'OS_SGAD', None, None)\n",
      "(14, 'Anthony Perkins', 'United States', datetime.date(1934, 4, 4), datetime.date(1992, 9, 8), None, 'OS_SGAD', None, None)\n",
      "(15, 'Vera Miles', 'United States', datetime.date(1929, 8, 23), None, None, 'OS_SGAD', None, None)\n",
      "(16, 'Emilio Martinez Lazaro', 'Spain', datetime.date(1956, 9, 9), None, None, 'OS_SGAD', None, None)\n",
      "(17, 'Dani Rovira', 'Spain', datetime.date(1984, 7, 1), None, None, 'OS_SGAD', None, None)\n",
      "(18, 'Clara Lago', 'Spain', datetime.date(1986, 4, 17), None, None, 'OS_SGAD', None, None)\n",
      "(19, 'Carmen Machi', 'Spain', datetime.date(1964, 8, 9), None, None, 'OS_SGAD', None, None)\n",
      "(20, 'Karra Elejalde', 'Spain', datetime.date(1960, 3, 6), None, None, 'OS_SGAD', None, None)\n",
      "(21, 'Daniel Sanchez Arevalo', 'Spain', datetime.date(1970, 6, 8), None, None, 'OS_SGAD', None, None)\n",
      "(22, 'Quim Gutierrez', 'Spain', datetime.date(1981, 3, 27), None, None, 'OS_SGAD', None, None)\n",
      "(23, 'Robert Alamo', 'Spain', datetime.date(1970, 5, 6), None, None, 'OS_SGAD', None, None)\n",
      "(24, 'Hector Colome', 'Spain', datetime.date(1944, 10, 25), datetime.date(2015, 2, 28), None, 'OS_SGAD', None, None)\n",
      "(25, 'Veronica Echegui', 'Spain', datetime.date(1983, 3, 14), None, None, 'OS_SGAD', None, None)\n",
      "(26, 'Patrick Criado', 'Spain', datetime.date(1995, 9, 23), None, None, 'OS_SGAD', None, None)\n",
      "(27, 'Sean Connery', 'Scotland', datetime.date(1930, 7, 8), None, None, 'OS_SGAD', None, None)\n",
      "(28, 'Mel Gibson', 'Australia', datetime.date(1950, 8, 9), None, None, 'OS_SGAD', None, None)\n",
      "(29, 'Morgan Freeman', 'United States', datetime.date(1935, 10, 1), None, None, 'OS_SGAD', None, None)\n",
      "(30, 'Tim Robbins', 'United States', datetime.date(1949, 6, 7), None, None, 'OS_SGAD', None, None)\n",
      "(41, 'Charlie Sheen', 'United States', datetime.date(1965, 9, 3), None, 5, 'OS_SGAD', None, None)\n",
      "(42, 'Emilio Estevez', 'United States', datetime.date(1962, 5, 12), None, 5, 'OS_SGAD', None, None)\n",
      "(43, 'Ramón Estevez', 'United States', datetime.date(1963, 8, 7), None, 5, 'OS_SGAD', None, None)\n",
      "(44, 'Reneé Estevez', 'United States', datetime.date(1967, 4, 2), None, 5, 'OS_SGAD', None, None)\n",
      "(45, 'Paula Speert Sheen', 'United States', datetime.date(1986, 1, 6), None, 41, 'OS_SGAD', None, None)\n",
      "(46, 'Bob Sheen', 'United States', datetime.date(2009, 5, 1), None, 41, 'OS_SGAD', None, None)\n",
      "(47, 'Max Sheen', 'United States', datetime.date(2009, 5, 1), None, 41, 'OS_SGAD', None, None)\n",
      "(48, 'Sam Sheen', 'United States', datetime.date(2004, 3, 9), None, 41, 'OS_SGAD', None, None)\n",
      "(49, 'Lola Sheen', 'United States', datetime.date(2005, 6, 1), None, 41, 'OS_SGAD', None, None)\n",
      "(50, 'Paula Jones-Sheen', 'United States', datetime.date(2003, 7, 6), None, 45, 'OS_SGAD', None, None)\n",
      "(51, 'Paloma Rae Estevez', 'United States', datetime.date(1986, 2, 15), None, 42, 'OS_SGAD', None, None)\n",
      "(52, 'Taylor Levi Estevez', 'United States', datetime.date(1984, 6, 22), None, 42, 'OS_SGAD', None, None)\n"
     ]
    }
   ],
   "source": [
    "cur.execute(\"\"\"\n",
    "            SELECT * FROM tb_person;\n",
    "SELECT \n",
    "\tperson_name, \n",
    "    person_country, \n",
    "    person_dob \n",
    "FROM tb_person\n",
    "WHERE person_dod IS NULL\n",
    "ORDER BY person_dob ASC; \n",
    "            \"\"\")\n",
    "result_2 = cur.fetchall()\n",
    "\n",
    "for row in result_2:\n",
    "    print(row)"
   ]
  },
  {
   "cell_type": "code",
   "execution_count": 6,
   "metadata": {},
   "outputs": [],
   "source": [
    "#close connection\n",
    "cur.close()\n",
    "mydb.close()"
   ]
  },
  {
   "cell_type": "code",
   "execution_count": 1,
   "metadata": {},
   "outputs": [],
   "source": [
    "import mysql.connector\n",
    "\n",
    "\n",
    "mydb = mysql.connector.connect(\n",
    "  host=\"localhost\",\n",
    "  user=\"root\",\n",
    "  password=\"root\",\n",
    "    database = \"movies\"\n",
    ")\n",
    "cur = mydb.cursor()"
   ]
  },
  {
   "cell_type": "markdown",
   "metadata": {},
   "source": [
    "## Exercici 3"
   ]
  },
  {
   "cell_type": "markdown",
   "metadata": {},
   "source": [
    "Has d'obtenir el nom del gènere i el nombre total de pel·lícules d'aquest gènere\n",
    "i ordenar-ho per ordre descendent de nombre total de pel·lícules."
   ]
  },
  {
   "cell_type": "code",
   "execution_count": 2,
   "metadata": {},
   "outputs": [
    {
     "name": "stdout",
     "output_type": "stream",
     "text": [
      "('Comedia', 3)\n",
      "('Acción', 2)\n",
      "('Ciencia Ficción', 2)\n",
      "('Drama', 2)\n",
      "('Romance', 2)\n",
      "('Suspense', 2)\n",
      "('Fantasía', 1)\n",
      "('Terror', 1)\n",
      "('Bélico', 1)\n",
      "('Melodrama', 0)\n",
      "('Musical', 0)\n",
      "('Documental', 0)\n"
     ]
    }
   ],
   "source": [
    "cur.execute(\"\"\"\n",
    "            SELECT genre_name AS Nom_genere, \n",
    "COUNT(movie_id) AS Total_Pelicules \n",
    "FROM tb_genre \n",
    "LEFT JOIN tb_movie movie_id ON genre_id = movie_genre_id \n",
    "GROUP BY Nom_genere \n",
    "ORDER BY Total_Pelicules DESC; \n",
    "            \"\"\")\n",
    "result_3 = cur.fetchall()\n",
    "\n",
    "for row in result_3:\n",
    "    print(row)"
   ]
  },
  {
   "cell_type": "code",
   "execution_count": 5,
   "metadata": {},
   "outputs": [],
   "source": [
    "#close connection\n",
    "cur.close()\n",
    "mydb.close()"
   ]
  },
  {
   "cell_type": "code",
   "execution_count": 6,
   "metadata": {},
   "outputs": [],
   "source": [
    "import mysql.connector\n",
    "\n",
    "\n",
    "mydb = mysql.connector.connect(\n",
    "  host=\"localhost\",\n",
    "  user=\"root\",\n",
    "  password=\"root\",\n",
    "    database = \"movies\"\n",
    ")\n",
    "cur = mydb.cursor()"
   ]
  },
  {
   "cell_type": "markdown",
   "metadata": {},
   "source": [
    "## Exercici 4"
   ]
  },
  {
   "cell_type": "markdown",
   "metadata": {},
   "source": [
    "Has d'obtenir, per a cada persona, el seu nom i el nombre màxim de rols diferents que ha tingut en una mateixa pel·lícula. \n",
    "Posteriorment, mostra únicament aquelles persones que hagin assumit més d'un rol en una mateixa pel·lícula."
   ]
  },
  {
   "cell_type": "code",
   "execution_count": 7,
   "metadata": {},
   "outputs": [
    {
     "name": "stdout",
     "output_type": "stream",
     "text": [
      "('Alfred Joseph Hitchcock', 7, 3)\n",
      "('Daniel Sanchez Arevalo', 11, 2)\n",
      "('Francis Ford Coppola', 1, 3)\n",
      "('George Lucas', 3, 2)\n",
      "('Mel Gibson', 13, 2)\n",
      "('Steven Spielberg', 4, 2)\n"
     ]
    }
   ],
   "source": [
    "cur.execute(\"\"\"\n",
    "            SELECT tb_person.person_name, tb_movie_person.movie_id,\n",
    "COUNT(DISTINCT tb_movie_person.role_id) AS Num_Rols\n",
    "FROM tb_movie_person\n",
    "JOIN tb_person ON tb_movie_person.person_id = tb_person.person_id\n",
    "JOIN tb_movie ON tb_movie_person.movie_id = tb_movie.movie_id\n",
    "GROUP BY tb_person.person_name, tb_movie_person.movie_id\n",
    "HAVING Num_Rols > 1; \n",
    "            \"\"\")\n",
    "result_4 = cur.fetchall()\n",
    "\n",
    "for row in result_4:\n",
    "    print(row)"
   ]
  },
  {
   "cell_type": "markdown",
   "metadata": {},
   "source": [
    "## Exercici 5"
   ]
  },
  {
   "cell_type": "markdown",
   "metadata": {},
   "source": [
    "Has de crear un nou gènere anomenat \"Documental\" el qual tingui com a identificador el nombre 69."
   ]
  },
  {
   "cell_type": "code",
   "execution_count": 9,
   "metadata": {},
   "outputs": [],
   "source": [
    "#close connection\n",
    "cur.close()\n",
    "mydb.close()"
   ]
  },
  {
   "cell_type": "code",
   "execution_count": 10,
   "metadata": {},
   "outputs": [],
   "source": [
    "import mysql.connector\n",
    "\n",
    "\n",
    "mydb = mysql.connector.connect(\n",
    "  host=\"localhost\",\n",
    "  user=\"root\",\n",
    "  password=\"root\",\n",
    "    database = \"movies\"\n",
    ")\n",
    "cur = mydb.cursor()"
   ]
  },
  {
   "cell_type": "code",
   "execution_count": 12,
   "metadata": {},
   "outputs": [
    {
     "name": "stdout",
     "output_type": "stream",
     "text": [
      "(1, 'Acción', 'OS_SGAD', None, None)\n",
      "(2, 'Ciencia Ficción', 'OS_SGAD', None, None)\n",
      "(3, 'Comedia', 'OS_SGAD', None, None)\n",
      "(4, 'Drama', 'OS_SGAD', None, None)\n",
      "(5, 'Fantasía', 'apermag', None, None)\n",
      "(6, 'Melodrama', 'apermag', datetime.date(2018, 9, 1), datetime.date(2018, 9, 27))\n",
      "(7, 'Musical', 'OS_SGAD', None, None)\n",
      "(8, 'Romance', 'OS_SGAD', None, None)\n",
      "(9, 'Suspense', 'OS_SGAD', None, None)\n",
      "(10, 'Terror', 'OS_SGAD', None, None)\n",
      "(11, 'Bélico', 'OS_SGAD', None, None)\n",
      "(69, 'Documental', 'OS_SGAD', None, None)\n"
     ]
    }
   ],
   "source": [
    "cur.execute(\"\"\"\n",
    "           SELECT * FROM tb_genre\n",
    "            \"\"\")\n",
    "result_5 = cur.fetchall()\n",
    "\n",
    "#INSERT INTO tb_genre (genre_id, genre_name) \n",
    "#VALUES (69, 'Documental');\n",
    "#SELECT * FROM tb_genre;# \n",
    "\n",
    "for row in result_5:\n",
    "    print(row)"
   ]
  },
  {
   "cell_type": "markdown",
   "metadata": {},
   "source": [
    "## Exercici 6"
   ]
  },
  {
   "cell_type": "markdown",
   "metadata": {},
   "source": [
    "Elimina la pel·lícula \"La Gran Familia Española\" de la base de dades."
   ]
  },
  {
   "cell_type": "code",
   "execution_count": 15,
   "metadata": {},
   "outputs": [
    {
     "name": "stdout",
     "output_type": "stream",
     "text": [
      "(1, 'Apocalypse Now', datetime.date(1979, 5, 10), 'Film', 11, 'OS_SGAD', None, None)\n",
      "(2, 'Star Wars:Episode IV - A New Hope', datetime.date(1977, 5, 25), 'Film', 2, 'OS_SGAD', None, None)\n",
      "(3, 'Indiana Jones and the Temple of Doom', datetime.date(1984, 5, 8), 'Film', 1, 'OS_SGAD', None, None)\n",
      "(4, 'The Terminal', datetime.date(2004, 6, 18), 'Digital', 3, 'OS_SGAD', None, None)\n",
      "(5, 'Jaws', datetime.date(1975, 1, 1), 'Film', 10, 'OS_SGAD', None, None)\n",
      "(6, 'ET The Extraterrestrial', datetime.date(1982, 7, 25), 'Film', 5, 'OS_SGAD', None, None)\n",
      "(7, 'Psycho', datetime.date(1960, 5, 6), 'Film', 9, 'OS_SGAD', None, None)\n",
      "(8, 'Ocho Apellidos Vascos', datetime.date(2014, 3, 14), 'Digital', 3, 'OS_SGAD', None, None)\n",
      "(9, 'Ocho Apellidos Catalanes', datetime.date(2016, 6, 9), 'Digital', 8, 'OS_SGAD', None, None)\n",
      "(10, 'El otro lado de la cama', datetime.date(2002, 9, 4), 'Digital', 8, 'OS_SGAD', None, None)\n",
      "(11, 'La Gran Familia Española', datetime.date(2012, 10, 15), 'Digital', 3, 'OS_SGAD', None, None)\n",
      "(12, 'El dia de la bestia', datetime.date(1994, 12, 25), 'Film', 1, 'OS_SGAD', None, None)\n",
      "(13, 'Braveheart', datetime.date(1995, 8, 8), 'Film', 4, 'OS_SGAD', None, None)\n",
      "(14, 'The Shawshank Redemption', datetime.date(1992, 1, 7), 'Film', 4, 'OS_SGAD', None, None)\n",
      "(15, 'Las brujas de Zugarramurdi', datetime.date(2009, 10, 7), 'Digital', 9, 'OS_SGAD', None, None)\n",
      "(16, 'Blade Runner', datetime.date(1982, 12, 25), 'Digital', 2, 'OS_SGAD', None, None)\n"
     ]
    }
   ],
   "source": [
    "cur.execute(\"\"\"\n",
    "           SELECT * FROM tb_movie\n",
    "            \"\"\")\n",
    "result_6 = cur.fetchall()\n",
    "\n",
    "#ALTER TABLE tb_movie\n",
    "#ADD CONSTRAINT fk_movie_genre_id\n",
    "#FOREIGN KEY (movie_genre_id)\n",
    "#REFERENCES tb_genre(genre_id)\n",
    "#ON DELETE CASCADE;\n",
    "\n",
    "#ALTER TABLE tb_movie_person\n",
    "#ADD CONSTRAINT fk_movie_id\n",
    "#FOREIGN KEY (movie_id)\n",
    "#REFERENCES tb_movie(movie_id)\n",
    "#ON DELETE CASCADE;\n",
    "\n",
    "#DELETE FROM tb_movie\n",
    "#WHERE movie_title = 'La Gran Familia Española';#\n",
    "\n",
    "for row in result_6:\n",
    "    print(row)"
   ]
  },
  {
   "cell_type": "markdown",
   "metadata": {},
   "source": [
    "## Exercici 7"
   ]
  },
  {
   "cell_type": "markdown",
   "metadata": {},
   "source": [
    "Canvia el gènere de la pel·lícula \"Ocho apellidos catalanes\" perquè consti com a comèdia i no com a romàntica."
   ]
  },
  {
   "cell_type": "code",
   "execution_count": 20,
   "metadata": {},
   "outputs": [],
   "source": [
    "#close connection\n",
    "cur.close()\n",
    "mydb.close()"
   ]
  },
  {
   "cell_type": "code",
   "execution_count": 21,
   "metadata": {},
   "outputs": [],
   "source": [
    "import mysql.connector\n",
    "\n",
    "\n",
    "mydb = mysql.connector.connect(\n",
    "  host=\"localhost\",\n",
    "  user=\"root\",\n",
    "  password=\"root\",\n",
    "    database = \"movies\"\n",
    ")\n",
    "cur = mydb.cursor()"
   ]
  },
  {
   "cell_type": "code",
   "execution_count": 22,
   "metadata": {},
   "outputs": [
    {
     "name": "stdout",
     "output_type": "stream",
     "text": [
      "(1, 'Apocalypse Now', datetime.date(1979, 5, 10), 'Film', 11, 'OS_SGAD', None, None)\n",
      "(2, 'Star Wars:Episode IV - A New Hope', datetime.date(1977, 5, 25), 'Film', 2, 'OS_SGAD', None, None)\n",
      "(3, 'Indiana Jones and the Temple of Doom', datetime.date(1984, 5, 8), 'Film', 1, 'OS_SGAD', None, None)\n",
      "(4, 'The Terminal', datetime.date(2004, 6, 18), 'Digital', 3, 'OS_SGAD', None, None)\n",
      "(5, 'Jaws', datetime.date(1975, 1, 1), 'Film', 10, 'OS_SGAD', None, None)\n",
      "(6, 'ET The Extraterrestrial', datetime.date(1982, 7, 25), 'Film', 5, 'OS_SGAD', None, None)\n",
      "(7, 'Psycho', datetime.date(1960, 5, 6), 'Film', 9, 'OS_SGAD', None, None)\n",
      "(8, 'Ocho Apellidos Vascos', datetime.date(2014, 3, 14), 'Digital', 3, 'OS_SGAD', None, None)\n",
      "(9, 'Ocho Apellidos Catalanes', datetime.date(2016, 6, 9), 'Digital', 8, 'OS_SGAD', None, None)\n",
      "(10, 'El otro lado de la cama', datetime.date(2002, 9, 4), 'Digital', 8, 'OS_SGAD', None, None)\n",
      "(11, 'La Gran Familia Española', datetime.date(2012, 10, 15), 'Digital', 3, 'OS_SGAD', None, None)\n",
      "(12, 'El dia de la bestia', datetime.date(1994, 12, 25), 'Film', 1, 'OS_SGAD', None, None)\n",
      "(13, 'Braveheart', datetime.date(1995, 8, 8), 'Film', 4, 'OS_SGAD', None, None)\n",
      "(14, 'The Shawshank Redemption', datetime.date(1992, 1, 7), 'Film', 4, 'OS_SGAD', None, None)\n",
      "(15, 'Las brujas de Zugarramurdi', datetime.date(2009, 10, 7), 'Digital', 9, 'OS_SGAD', None, None)\n",
      "(16, 'Blade Runner', datetime.date(1982, 12, 25), 'Digital', 2, 'OS_SGAD', None, None)\n"
     ]
    }
   ],
   "source": [
    "cur.execute(\"\"\"\n",
    "           SELECT * FROM tb_movie\n",
    "            \"\"\")\n",
    "result_7 = cur.fetchall()\n",
    "\n",
    "#UPDATE tb_movie\n",
    "#SET movie_genre_id = 8\n",
    "#WHERE movie_title = 'Ocho Apellidos Catalanes' AND movie_genre_id = 3;\n",
    "#SELECT * FROM tb_movie;#\n",
    "\n",
    "for row in result_7:\n",
    "    print(row)"
   ]
  },
  {
   "cell_type": "code",
   "execution_count": null,
   "metadata": {},
   "outputs": [],
   "source": []
  }
 ],
 "metadata": {
  "kernelspec": {
   "display_name": "Python 3 (ipykernel)",
   "language": "python",
   "name": "python3"
  },
  "language_info": {
   "codemirror_mode": {
    "name": "ipython",
    "version": 3
   },
   "file_extension": ".py",
   "mimetype": "text/x-python",
   "name": "python",
   "nbconvert_exporter": "python",
   "pygments_lexer": "ipython3",
   "version": "3.11.5"
  }
 },
 "nbformat": 4,
 "nbformat_minor": 2
}
